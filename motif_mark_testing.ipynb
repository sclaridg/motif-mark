{
 "cells": [
  {
   "cell_type": "markdown",
   "metadata": {},
   "source": [
    "# Motif Mark Test Notebook"
   ]
  },
  {
   "cell_type": "markdown",
   "metadata": {},
   "source": [
    "## Building the Script"
   ]
  },
  {
   "cell_type": "code",
   "execution_count": 3,
   "metadata": {},
   "outputs": [],
   "source": [
    "import re"
   ]
  },
  {
   "cell_type": "code",
   "execution_count": null,
   "metadata": {
    "collapsed": true
   },
   "outputs": [],
   "source": [
    "import cairo\n",
    "import math"
   ]
  },
  {
   "cell_type": "code",
   "execution_count": 5,
   "metadata": {},
   "outputs": [
    {
     "name": "stdout",
     "output_type": "stream",
     "text": [
      "Created motif dictionary.\n"
     ]
    }
   ],
   "source": [
    "#!/usr/bin/env python\n",
    "\n",
    "# motif_mark.py\n",
    "\n",
    "import re\n",
    "import argparse\n",
    "\n",
    "parser = argparse.ArgumentParser(description=\"Creates a visualization of one or more motifs across a sequence or multiple sequences provided in UCSC format. Requires sequences and a list of motifs to be visualized.\")\n",
    "parser.add_argument('-f','--file', help='absolute path to FASTA file of sequences to be searched.', required=True, type=str)\n",
    "parser.add_argument('-o','--out_dir', help='absolute path to the output directory.', required=True, type=str)\n",
    "parser.add_argument('-m','--motifs', help='absolute path to the text file containing the list of motifs to be visualized, formatted as one motif per line.', required=True, type=str)\n",
    "args = parser.parse_args()\n",
    "\n",
    "\n",
    "#####################################################################################\n",
    "##### Make Dictionaries #############################################################\n",
    "#####################################################################################\n",
    "\n",
    "### IUPAC ambiguity codes and associated regular expressions for ignoring case\n",
    "iupac = {\"A\":\"[Aa]\", \"T\":\"[TtUu]\", \"C\":\"[Cc]\", \"G\":\"[Gg]\", \"U\":\"[TtUu]\",\n",
    "         \"M\":\"[AaCc]\", \"R\":\"[AaGg]\", \"W\":\"[AaTtUu]\",\n",
    "         \"S\":\"[CcGg]\", \"Y\":\"[CcTtUu]\", \"K\":\"[GgTtUu]\",\n",
    "         \"V\":\"[AaCcGg]\", \"H\":\"[AaCcTtUu]\", \"D\":\"[AaGgTtUu]\", \"B\":\"[CcGgTtUu]\",\n",
    "         \"N\":\"[AaTtCcGgUu]\"}\n",
    "\n",
    "### Motif dcitionary\n",
    "motif_dict = {}\n",
    "with open(\"motifs.txt\") as motif_list:\n",
    "    for motif in motif_list:\n",
    "        motif = motif.strip(\"\\n\")\n",
    "        motif_dict[motif] = 0\n",
    "print(\"Created motif dictionary.\", flush = True)\n",
    "\n",
    "#####################################################################################\n",
    "##### Define Higher Order Functions #################################################\n",
    "#####################################################################################\n",
    "\n",
    "def fasta_twofer(filepath):\n",
    "    '''Takes in a FASTA file and creates a new FASTA file called \"sequences_twofer.fasta\"\n",
    "    that only has two lines for every FASTA entry.'''\n",
    "    first_line = True\n",
    "    with open(filepath,\"r+\") as fasta, open(args.out_dir/\"sequences_twofer.fasta\", \"w+\") as out:\n",
    "        for line in fasta:\n",
    "            if first_line and line.startswith(\">\"):     ### If the first line, print line without \"\\n\" because print statement appends \"\\n\"\n",
    "                out.write(line.strip())\n",
    "                first_line = False     ### Never run through this part of the looping system again\n",
    "            elif not first_line and line.startswith(\">\"):     ### Print \"\\n\" preceeding all deflines\n",
    "                out.write(\"\\n\", end=\"\")\n",
    "                out.write(line.strip())\n",
    "            else:\n",
    "                out.write(line.strip(\"\\n\"), end=\"\")     ### Strip \"\\n\" from all sequence lines\n",
    "        out.write(\"\\n\")\n",
    "\n",
    "def count_lines(infile):\n",
    "    '''Opens the input file and returns the number of lines in the file.'''\n",
    "    with open(infile) as file:\n",
    "        for i, line in enumerate(file):\n",
    "            pass\n",
    "    return i + 1\n",
    "\n",
    "def motif2regex(motif):\n",
    "    '''Takes the motif and returns a regular expression that will search for that motif in\n",
    "    a given sequence, regardless of case.'''\n",
    "    motif_components = list(motif)\n",
    "    for i in range(0, len(motif_components)):\n",
    "        motif_components[i] = iupac.get(motif_components[i])\n",
    "    new_motif = \"\".join(motif_components)\n",
    "    return regex_motif\n",
    "\n",
    "def motif_position(motif, sequence):\n",
    "    '''Takes a motif in regular-expression format and searches for all instances of that motif\n",
    "    in the provided sequence. Returns a list of start and end positions. Since Python idexes starting\n",
    "    at 0, 1 is added to the start position to account for pixels when making the image.'''\n",
    "    regex_motif = motif2regex(motif)\n",
    "    positions = []\n",
    "    for match in re.finditer(regex_motif, sequence):\n",
    "        s = match.start()\n",
    "        e = match.end()\n",
    "        positions.append([s + 1, e])\n",
    "    return positions"
   ]
  },
  {
   "cell_type": "markdown",
   "metadata": {},
   "source": [
    " "
   ]
  },
  {
   "cell_type": "markdown",
   "metadata": {},
   "source": [
    "## In-Line Testing"
   ]
  },
  {
   "cell_type": "code",
   "execution_count": 6,
   "metadata": {},
   "outputs": [
    {
     "name": "stdout",
     "output_type": "stream",
     "text": [
      "6 8\n"
     ]
    }
   ],
   "source": [
    "motif = \"[a][Aa]\"\n",
    "sequence = \"AABBBAaA\"\n",
    "\n",
    "for match in re.finditer(motif, sequence):\n",
    "    s = match.start()\n",
    "    e = match.end()\n",
    "    print(s, e)"
   ]
  },
  {
   "cell_type": "code",
   "execution_count": 7,
   "metadata": {
    "scrolled": true
   },
   "outputs": [
    {
     "name": "stdout",
     "output_type": "stream",
     "text": [
      "[Aa][TtUu][Cc][Gg]\n"
     ]
    },
    {
     "data": {
      "text/plain": [
       "[[1, 4], [11, 14]]"
      ]
     },
     "execution_count": 7,
     "metadata": {},
     "output_type": "execute_result"
    }
   ],
   "source": [
    "motif = \"ATCG\"\n",
    "motif_list = list(motif)\n",
    "for i in range(0, len(motif_list)):\n",
    "    motif_list[i] = iupac.get(motif_list[i])\n",
    "new_motif = \"\".join(motif_list)\n",
    "print(new_motif)\n",
    "\n",
    "sequence = \"ATCGGGGGGGATCG\"\n",
    "\n",
    "positions = []\n",
    "for match in re.finditer(new_motif, sequence):\n",
    "    s = match.start()\n",
    "    e = match.end()\n",
    "    positions.append([s + 1, e])\n",
    "positions"
   ]
  },
  {
   "cell_type": "code",
   "execution_count": null,
   "metadata": {
    "collapsed": true
   },
   "outputs": [],
   "source": []
  },
  {
   "cell_type": "code",
   "execution_count": 9,
   "metadata": {},
   "outputs": [
    {
     "name": "stdout",
     "output_type": "stream",
     "text": [
      ">INSR chr19:7149896-7151209 (reverse complement)\n",
      "\n",
      "1\n",
      "aaaattctgccagacttggagaagtggctgagtcagttgtgatgtccacatgtagtcacg\n",
      "\n",
      "2\n",
      "tttgacatcccagggccacctcagcaggccgtctctggggagaattttctctgatttctt\n",
      "\n",
      "3\n",
      "ccccttcccttgctggacccctgcacctgctggggaagatgtagctcactccgtctagca\n",
      "\n",
      "4\n",
      "agtgatgggagcgagtggtccagggtcaaagccagggtgcccttactcggacacatgtgg\n",
      "\n",
      "5\n",
      "cctccaagtgtcagagcccagtggtctgtctaatgaagttccctctgtcctcaaaggcgt\n",
      "\n",
      "6\n",
      "tggttttgtttccacagAAAAACCTCTTCAGGCACTGGTGCCGAGGACCCTAGgtatgac\n",
      "\n",
      "7\n",
      "tcacctgtgcgacccctggtgcctgctccgcgcagggccggcggcgtgccaggcagatgc\n",
      "\n",
      "8\n",
      "ctcggagaacccaggggtttctgtggctttttgcatgcggcgggcagctgtgctggagag\n",
      "\n",
      "9\n",
      "cagatgcttcaccaattcagaaatccaatgccttcactctgaaatgaaatctgggcatga\n",
      "\n",
      "10\n",
      "atgtggggagaaaccttcactaacacactcttgctaaaacatagaatcatgggagtgctt\n",
      "\n",
      "11\n",
      "cctgggtaccccctccctgccttctgtttgcagccactgtttgctcactaaacatctctg\n",
      "\n",
      "12\n",
      "cacctcccgcgtgcatttgcagaggtgggtgggggtccccggagtctgagctccccgcgg\n",
      "\n",
      "13\n",
      "ctgggtgccccgacccagcagctcctacaccatgaatggaggttgatctggaaacagaat\n",
      "\n",
      "14\n",
      "attttcatgaaagggcgacagggtatgaacaaaagaacaccgtgtcgctcactgaattcc\n",
      "\n",
      "15\n",
      "acggaggagagtcaggga\n",
      "\n",
      "16\n",
      ">MBNL chr3:152432504-152433226 (reverse complement)\n",
      "\n",
      "17\n",
      "taactctttgaggtaagcgccgttttaaagatgaggaaattgaggtacagtgatgtaacc\n",
      "\n",
      "18\n",
      "aggcaatgtgactttagcgtccaacctcttatccactattctaaacatggatgttgtagc\n",
      "\n",
      "19\n",
      "ctttataaacgttacattaatcaaatacagcattatctatactctagtaaaatgttccaa\n",
      "\n",
      "20\n",
      "accctaagccaaaatctgttttaaaatttttacaactttttggccatggaaacacacaaa\n",
      "\n",
      "21\n",
      "caaacaaaaaaccacactttgagaattagaatgtagtatataaagacaccaactagtcat\n",
      "\n",
      "22\n",
      "tcctacCTCAAGTCTGTCTGTTCGCATTAATTTCTGTGCAGCAGCTGCAGCAGCTGCAGG\n",
      "\n",
      "23\n",
      "TACAGGGACACCCGGATTCCCTGTAACCAACATTGGTGCAGTCGGCAAGATCTCTGCCGG\n",
      "\n",
      "24\n",
      "GACCAGGCTTGGAGAAACAGGTCCCAGATAGGGATTAAAGGCGGCTGCTGATGCATTGGT\n",
      "\n",
      "25\n",
      "GGCTAAGCTTGGTGCAACTGAAAACATTGGctgaaaaataaaataaaagcaaaatttaac\n",
      "\n",
      "26\n",
      "atgcaggtctcagctcaaagttgatattcttaattatacatttgtcctccatccatctat\n",
      "\n",
      "27\n",
      "ccattcttccttaggccttccctccttccctttaatcctgtgttcatttactatcattta\n",
      "\n",
      "28\n",
      "gggtaaggctgttttattaaataaacattcatcaaatcaatgtttttctaaaatataata\n",
      "\n",
      "29\n",
      "agt\n",
      "\n",
      "30\n",
      ">ADD3 chr10:111891895-111892326 \n",
      "\n",
      "31\n",
      "aatgtataattatggatatatgggataactgttagcatgctcagctcactgctgaagaat\n",
      "\n",
      "32\n",
      "ttatcatctctttgtatacaggcatttgatgtatgcactaacctccctaaaatcatatgc\n",
      "\n",
      "33\n",
      "tgctttgttttgttttgcatggcttttaactaaactcttatccaacagATGCTGAGCAGG\n",
      "\n",
      "34\n",
      "AATTACTCTCAGATGACGCTTCATCTGTTTCACAAATTCAGTCTCAAACTCAGTCACCGC\n",
      "\n",
      "35\n",
      "AAAATGTCCCTGAAAAATTAGAAGgtactcaatgtaatttcccacatagcattcactgag\n",
      "\n",
      "36\n",
      "ttagtcttgagtctgtccctctgtgttttgttttcacgtgaggaagttgaatacctcatc\n",
      "\n",
      "37\n",
      "acagtaagttttccatattttacttatatctcccaataattacatattttatatcattaa\n",
      "\n",
      "38\n",
      "aaatggggcgct\n",
      "\n",
      "39\n"
     ]
    }
   ],
   "source": [
    "with open(\"sequence.fasta\", \"r+\") as file:\n",
    "    linecount = 0\n",
    "    for line in file:\n",
    "        linecount += 1\n",
    "        print(line)\n",
    "        print(linecount)"
   ]
  },
  {
   "cell_type": "code",
   "execution_count": 14,
   "metadata": {
    "collapsed": true
   },
   "outputs": [],
   "source": [
    "def fasta_twofer(filepath):\n",
    "    first_line = True\n",
    "    with open(filepath,\"r+\") as fasta, open(\"sequences_twofer.fasta\", \"w+\") as out:\n",
    "        for line in fasta:\n",
    "            if first_line and line.startswith(\">\"):\n",
    "                out.write(line)\n",
    "                first_line = False     ### Never run through this part of the looping system again\n",
    "            elif not first_line and line.startswith(\">\"):     ### Print \"\\n\" preceeding all deflines\n",
    "                out.write(\"\\n\")\n",
    "                out.write(line)\n",
    "            else:\n",
    "                out.write(line.strip(\"\\n\"))     ### Strip \"\\n\" from all sequence lines\n",
    "        out.write(\"\\n\")"
   ]
  },
  {
   "cell_type": "code",
   "execution_count": 15,
   "metadata": {},
   "outputs": [],
   "source": [
    "fasta_twofer(\"sequence.fasta\")"
   ]
  },
  {
   "cell_type": "markdown",
   "metadata": {},
   "source": [
    "## `Pycairo` Example from Leslie"
   ]
  },
  {
   "cell_type": "code",
   "execution_count": null,
   "metadata": {
    "collapsed": true
   },
   "outputs": [],
   "source": [
    "width, height = 800, 500\n",
    "\n",
    "#create the coordinates to display your graphic, desginate output\n",
    "surface = cairo.SVGSurface(\"example.svg\",width, height)\n",
    "#create the coordinates you will be drawing on (like a transparency) - you can create a transformation matrix\n",
    "context = cairo.Context(surface)\n",
    "#context.scale(width,height) #will set your drawing surface to a 0.0-1.0 scale\n",
    "\n",
    "#Need to tell cairo where to put the brush, the color and width, and the shape you want it to draw\n",
    "#draw a line\n",
    "context.set_line_width(1)\n",
    "context.move_to(50,25)        #(x,y)\n",
    "context.line_to(450,25)\n",
    "context.stroke()\n",
    "\n",
    "#draw a rectangle\n",
    "context.rectangle(100,100,150,350)        #(x0,y0,x1,y1)\n",
    "context.fill()\n",
    "\n",
    "context.move_to(25,250)\n",
    "context.set_source_rgb(.25,.5,.5)\n",
    "context.set_line_width(5)\n",
    "context.curve_to(100,400,400,100,750,250)\n",
    "context.stroke()\n",
    "\n",
    "context.set_source_rgb(0,.6,.8)\n",
    "context.arc(500, 300, 50, 0, 2*math.pi)\n",
    "context.fill_preserve()            #draws filled circle, but preserves for later drawing\n",
    "context.set_source_rgb(.3,.3,.3)\n",
    "context.stroke()\n",
    "\n",
    "#write out drawing\n",
    "surface.finish()"
   ]
  },
  {
   "cell_type": "code",
   "execution_count": null,
   "metadata": {
    "collapsed": true
   },
   "outputs": [],
   "source": [
    "WIDTH, HEIGHT = 256, 256\n",
    "\n",
    "surface = cairo.ImageSurface (cairo.FORMAT_ARGB32, WIDTH, HEIGHT)\n",
    "ctx = cairo.Context (surface)\n",
    "\n",
    "ctx.scale (WIDTH, HEIGHT) # Normalizing the canvas\n",
    "\n",
    "pat = cairo.LinearGradient (0.0, 0.0, 0.0, 1.0)\n",
    "pat.add_color_stop_rgba (1, 0.7, 0, 0, 0.5) # First stop, 50% opacity\n",
    "pat.add_color_stop_rgba (0, 0.9, 0.7, 0.2, 1) # Last stop, 100% opacity\n",
    "\n",
    "ctx.rectangle (0, 0, 1, 1) # Rectangle(x0, y0, x1, y1)\n",
    "ctx.set_source (pat)\n",
    "ctx.fill ()\n",
    "\n",
    "ctx.translate (0.1, 0.1) # Changing the current transformation matrix\n",
    "\n",
    "ctx.move_to (0, 0)\n",
    "# Arc(cx, cy, radius, start_angle, stop_angle)\n",
    "ctx.arc (0.2, 0.1, 0.1, -math.pi/2, 0)\n",
    "ctx.line_to (0.5, 0.1) # Line to (x,y)\n",
    "# Curve(x1, y1, x2, y2, x3, y3)\n",
    "ctx.curve_to (0.5, 0.2, 0.5, 0.4, 0.2, 0.8)\n",
    "ctx.close_path ()\n",
    "\n",
    "ctx.set_source_rgb (0.3, 0.2, 0.5) # Solid color\n",
    "ctx.set_line_width (0.02)\n",
    "ctx.stroke ()\n",
    "\n",
    "surface.write_to_png (\"example2.png\") # Output to PNG"
   ]
  }
 ],
 "metadata": {
  "kernelspec": {
   "display_name": "Python 3",
   "language": "python",
   "name": "python3"
  },
  "language_info": {
   "codemirror_mode": {
    "name": "ipython",
    "version": 3
   },
   "file_extension": ".py",
   "mimetype": "text/x-python",
   "name": "python",
   "nbconvert_exporter": "python",
   "pygments_lexer": "ipython3",
   "version": "3.6.1"
  }
 },
 "nbformat": 4,
 "nbformat_minor": 2
}
