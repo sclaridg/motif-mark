{
 "cells": [
  {
   "cell_type": "markdown",
   "metadata": {},
   "source": [
    "# Motif Mark Test Notebook"
   ]
  },
  {
   "cell_type": "code",
   "execution_count": null,
   "metadata": {
    "collapsed": true
   },
   "outputs": [],
   "source": [
    "### Make dictionary of IUPAC ambiguity codes\n",
    "iupac"
   ]
  },
  {
   "cell_type": "code",
   "execution_count": null,
   "metadata": {
    "collapsed": true
   },
   "outputs": [],
   "source": []
  },
  {
   "cell_type": "code",
   "execution_count": null,
   "metadata": {
    "collapsed": true
   },
   "outputs": [],
   "source": []
  },
  {
   "cell_type": "code",
   "execution_count": null,
   "metadata": {
    "collapsed": true
   },
   "outputs": [],
   "source": []
  },
  {
   "cell_type": "code",
   "execution_count": null,
   "metadata": {
    "collapsed": true
   },
   "outputs": [],
   "source": []
  },
  {
   "cell_type": "code",
   "execution_count": 11,
   "metadata": {},
   "outputs": [
    {
     "ename": "ModuleNotFoundError",
     "evalue": "No module named 'cairocffi'",
     "output_type": "error",
     "traceback": [
      "\u001b[0;31m---------------------------------------------------------------------------\u001b[0m",
      "\u001b[0;31mModuleNotFoundError\u001b[0m                       Traceback (most recent call last)",
      "\u001b[0;32m<ipython-input-11-453ed810a612>\u001b[0m in \u001b[0;36m<module>\u001b[0;34m()\u001b[0m\n\u001b[0;32m----> 1\u001b[0;31m \u001b[0;32mimport\u001b[0m \u001b[0mcairocffi\u001b[0m \u001b[0;32mas\u001b[0m \u001b[0mcairo\u001b[0m\u001b[0;34m\u001b[0m\u001b[0m\n\u001b[0m\u001b[1;32m      2\u001b[0m \u001b[0;32mimport\u001b[0m \u001b[0mmath\u001b[0m\u001b[0;34m\u001b[0m\u001b[0m\n",
      "\u001b[0;31mModuleNotFoundError\u001b[0m: No module named 'cairocffi'"
     ]
    }
   ],
   "source": [
    "import cairocffi as cairo\n",
    "import math"
   ]
  },
  {
   "cell_type": "markdown",
   "metadata": {},
   "source": [
    "## `Pycairo` Example"
   ]
  },
  {
   "cell_type": "code",
   "execution_count": null,
   "metadata": {
    "collapsed": true
   },
   "outputs": [],
   "source": [
    "width, height = 800, 500\n",
    "\n",
    "#create the coordinates to display your graphic, desginate output\n",
    "surface = cairo.SVGSurface(\"example.svg\",width, height)\n",
    "#create the coordinates you will be drawing on (like a transparency) - you can create a transformation matrix\n",
    "context = cairo.Context(surface)\n",
    "#context.scale(width,height) #will set your drawing surface to a 0.0-1.0 scale\n",
    "\n",
    "#Need to tell cairo where to put the brush, the color and width, and the shape you want it to draw\n",
    "#draw a line\n",
    "context.set_line_width(1)\n",
    "context.move_to(50,25)        #(x,y)\n",
    "context.line_to(450,25)\n",
    "context.stroke()\n",
    "\n",
    "#draw a rectangle\n",
    "context.rectangle(100,100,150,350)        #(x0,y0,x1,y1)\n",
    "context.fill()\n",
    "\n",
    "context.move_to(25,250)\n",
    "context.set_source_rgb(.25,.5,.5)\n",
    "context.set_line_width(5)\n",
    "context.curve_to(100,400,400,100,750,250)\n",
    "context.stroke()\n",
    "\n",
    "context.set_source_rgb(0,.6,.8)\n",
    "context.arc(500, 300, 50, 0, 2*math.pi)\n",
    "context.fill_preserve()            #draws filled circle, but preserves for later drawing\n",
    "context.set_source_rgb(.3,.3,.3)\n",
    "context.stroke()\n",
    "\n",
    "#write out drawing\n",
    "surface.finish()"
   ]
  },
  {
   "cell_type": "code",
   "execution_count": null,
   "metadata": {
    "collapsed": true
   },
   "outputs": [],
   "source": [
    "WIDTH, HEIGHT = 256, 256\n",
    "\n",
    "surface = cairo.ImageSurface (cairo.FORMAT_ARGB32, WIDTH, HEIGHT)\n",
    "ctx = cairo.Context (surface)\n",
    "\n",
    "ctx.scale (WIDTH, HEIGHT) # Normalizing the canvas\n",
    "\n",
    "pat = cairo.LinearGradient (0.0, 0.0, 0.0, 1.0)\n",
    "pat.add_color_stop_rgba (1, 0.7, 0, 0, 0.5) # First stop, 50% opacity\n",
    "pat.add_color_stop_rgba (0, 0.9, 0.7, 0.2, 1) # Last stop, 100% opacity\n",
    "\n",
    "ctx.rectangle (0, 0, 1, 1) # Rectangle(x0, y0, x1, y1)\n",
    "ctx.set_source (pat)\n",
    "ctx.fill ()\n",
    "\n",
    "ctx.translate (0.1, 0.1) # Changing the current transformation matrix\n",
    "\n",
    "ctx.move_to (0, 0)\n",
    "# Arc(cx, cy, radius, start_angle, stop_angle)\n",
    "ctx.arc (0.2, 0.1, 0.1, -math.pi/2, 0)\n",
    "ctx.line_to (0.5, 0.1) # Line to (x,y)\n",
    "# Curve(x1, y1, x2, y2, x3, y3)\n",
    "ctx.curve_to (0.5, 0.2, 0.5, 0.4, 0.2, 0.8)\n",
    "ctx.close_path ()\n",
    "\n",
    "ctx.set_source_rgb (0.3, 0.2, 0.5) # Solid color\n",
    "ctx.set_line_width (0.02)\n",
    "ctx.stroke ()\n",
    "\n",
    "surface.write_to_png (\"example2.png\") # Output to PNG"
   ]
  }
 ],
 "metadata": {
  "kernelspec": {
   "display_name": "Python 3",
   "language": "python",
   "name": "python3"
  },
  "language_info": {
   "codemirror_mode": {
    "name": "ipython",
    "version": 3
   },
   "file_extension": ".py",
   "mimetype": "text/x-python",
   "name": "python",
   "nbconvert_exporter": "python",
   "pygments_lexer": "ipython3",
   "version": "3.6.1"
  }
 },
 "nbformat": 4,
 "nbformat_minor": 2
}
