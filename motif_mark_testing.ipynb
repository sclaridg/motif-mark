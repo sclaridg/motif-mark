{
 "cells": [
  {
   "cell_type": "markdown",
   "metadata": {},
   "source": [
    "# Motif Mark Test Notebook"
   ]
  },
  {
   "cell_type": "markdown",
   "metadata": {},
   "source": [
    "## Building the Script"
   ]
  },
  {
   "cell_type": "code",
   "execution_count": 1,
   "metadata": {
    "collapsed": true
   },
   "outputs": [],
   "source": [
    "import re\n",
    "import cairo\n",
    "import math"
   ]
  },
  {
   "cell_type": "code",
   "execution_count": 75,
   "metadata": {},
   "outputs": [
    {
     "ename": "TypeError",
     "evalue": "write() takes no keyword arguments",
     "output_type": "error",
     "traceback": [
      "\u001b[0;31m---------------------------------------------------------------------------\u001b[0m",
      "\u001b[0;31mTypeError\u001b[0m                                 Traceback (most recent call last)",
      "\u001b[0;32m<ipython-input-75-3d036ea3364d>\u001b[0m in \u001b[0;36m<module>\u001b[0;34m()\u001b[0m\n\u001b[1;32m    142\u001b[0m \u001b[0;31m#####################################################################################\u001b[0m\u001b[0;34m\u001b[0m\u001b[0;34m\u001b[0m\u001b[0m\n\u001b[1;32m    143\u001b[0m \u001b[0;34m\u001b[0m\u001b[0m\n\u001b[0;32m--> 144\u001b[0;31m \u001b[0mget_all_positions\u001b[0m\u001b[0;34m(\u001b[0m\u001b[0mfasta_f\u001b[0m \u001b[0;34m=\u001b[0m \u001b[0;34m\"./sequence.fasta\"\u001b[0m\u001b[0;34m,\u001b[0m \u001b[0mmotif_f\u001b[0m \u001b[0;34m=\u001b[0m \u001b[0;34m\"./motifs.txt\"\u001b[0m\u001b[0;34m)\u001b[0m\u001b[0;34m\u001b[0m\u001b[0m\n\u001b[0m\u001b[1;32m    145\u001b[0m \u001b[0;34m\u001b[0m\u001b[0m\n\u001b[1;32m    146\u001b[0m \u001b[0;31m#####################################################################################\u001b[0m\u001b[0;34m\u001b[0m\u001b[0;34m\u001b[0m\u001b[0m\n",
      "\u001b[0;32m<ipython-input-75-3d036ea3364d>\u001b[0m in \u001b[0;36mget_all_positions\u001b[0;34m(fasta_f, motif_f)\u001b[0m\n\u001b[1;32m    102\u001b[0m \u001b[0;34m\u001b[0m\u001b[0m\n\u001b[1;32m    103\u001b[0m \u001b[0;32mdef\u001b[0m \u001b[0mget_all_positions\u001b[0m\u001b[0;34m(\u001b[0m\u001b[0mfasta_f\u001b[0m\u001b[0;34m,\u001b[0m \u001b[0mmotif_f\u001b[0m\u001b[0;34m)\u001b[0m\u001b[0;34m:\u001b[0m\u001b[0;34m\u001b[0m\u001b[0m\n\u001b[0;32m--> 104\u001b[0;31m     \u001b[0mfasta_twofer\u001b[0m\u001b[0;34m(\u001b[0m\u001b[0mfasta_f\u001b[0m\u001b[0;34m)\u001b[0m\u001b[0;34m\u001b[0m\u001b[0m\n\u001b[0m\u001b[1;32m    105\u001b[0m     \u001b[0mseq_details\u001b[0m \u001b[0;34m=\u001b[0m \u001b[0msequence_parser\u001b[0m\u001b[0;34m(\u001b[0m\u001b[0;34m\"./sequences_twofer.fasta\"\u001b[0m\u001b[0;34m)\u001b[0m\u001b[0;34m\u001b[0m\u001b[0m\n\u001b[1;32m    106\u001b[0m     \u001b[0mmotif_dict\u001b[0m \u001b[0;34m=\u001b[0m \u001b[0mmotif2regex\u001b[0m\u001b[0;34m(\u001b[0m\u001b[0mmotif_f\u001b[0m\u001b[0;34m)\u001b[0m\u001b[0;34m\u001b[0m\u001b[0m\n",
      "\u001b[0;32m<ipython-input-75-3d036ea3364d>\u001b[0m in \u001b[0;36mfasta_twofer\u001b[0;34m(filepath)\u001b[0m\n\u001b[1;32m     33\u001b[0m                 \u001b[0mout\u001b[0m\u001b[0;34m.\u001b[0m\u001b[0mwrite\u001b[0m\u001b[0;34m(\u001b[0m\u001b[0mline\u001b[0m\u001b[0;34m.\u001b[0m\u001b[0mstrip\u001b[0m\u001b[0;34m(\u001b[0m\u001b[0;34m)\u001b[0m\u001b[0;34m)\u001b[0m\u001b[0;34m\u001b[0m\u001b[0m\n\u001b[1;32m     34\u001b[0m             \u001b[0;32melse\u001b[0m\u001b[0;34m:\u001b[0m\u001b[0;34m\u001b[0m\u001b[0m\n\u001b[0;32m---> 35\u001b[0;31m                 \u001b[0mout\u001b[0m\u001b[0;34m.\u001b[0m\u001b[0mwrite\u001b[0m\u001b[0;34m(\u001b[0m\u001b[0mline\u001b[0m\u001b[0;34m.\u001b[0m\u001b[0mstrip\u001b[0m\u001b[0;34m(\u001b[0m\u001b[0;34m\"\\n\"\u001b[0m\u001b[0;34m)\u001b[0m\u001b[0;34m,\u001b[0m \u001b[0mend\u001b[0m\u001b[0;34m=\u001b[0m\u001b[0;34m\"\"\u001b[0m\u001b[0;34m)\u001b[0m \u001b[0;31m# Strip \"\\n\" from all sequence lines\u001b[0m\u001b[0;34m\u001b[0m\u001b[0m\n\u001b[0m\u001b[1;32m     36\u001b[0m         \u001b[0mout\u001b[0m\u001b[0;34m.\u001b[0m\u001b[0mwrite\u001b[0m\u001b[0;34m(\u001b[0m\u001b[0;34m\"\\n\"\u001b[0m\u001b[0;34m)\u001b[0m\u001b[0;34m\u001b[0m\u001b[0m\n\u001b[1;32m     37\u001b[0m \u001b[0;34m\u001b[0m\u001b[0m\n",
      "\u001b[0;31mTypeError\u001b[0m: write() takes no keyword arguments"
     ]
    }
   ],
   "source": [
    "#!/usr/bin/env python\n",
    "\n",
    "# motif_mark.py\n",
    "\n",
    "import re\n",
    "import sys\n",
    "import argparse\n",
    "import cairo\n",
    "import math\n",
    "\n",
    "#parser = argparse.ArgumentParser(description=\"Creates a visualization of one or more motifs across a sequence or multiple sequences provided in UCSC format. Requires sequences and a list of motifs to be visualized.\")\n",
    "#parser.add_argument('-f','--file', help='absolute path to FASTA file of sequences to be searched.', required=True, type=str)\n",
    "#parser.add_argument('-o','--out_dir', help='absolute path to the output directory.', required=True, type=str)\n",
    "#parser.add_argument('-m','--motifs', help='absolute path to the text file containing the list of motifs to be visualized, formatted as one motif per line.', required=True, type=str)\n",
    "#args = parser.parse_args()\n",
    "\n",
    "#####################################################################################\n",
    "##### Define Higher Order Functions #################################################\n",
    "#####################################################################################\n",
    "\n",
    "def fasta_twofer(filepath):\n",
    "    '''Takes in a FASTA file and creates a new FASTA file called \"sequences_twofer.fasta\"\n",
    "    that only has two lines for every FASTA entry.'''\n",
    "    first_line = True\n",
    "    #with open(filepath,\"r+\") as fasta, open(args.out_dir/\"sequences_twofer.fasta\", \"w+\") as out:\n",
    "    with open(filepath,\"r+\") as fasta, open(\"./sequences_twofer.fasta\", \"w+\") as out:\n",
    "        for line in fasta:\n",
    "            if first_line and line.startswith(\">\"): # If the first line, print line without \"\\n\" because print statement appends \"\\n\"\n",
    "                out.write(line.strip())\n",
    "                first_line = False # Never run through this part of the looping system again\n",
    "            elif not first_line and line.startswith(\">\"): # Print \"\\n\" preceeding all deflines\n",
    "                out.write(\"\\n\", end=\"\")\n",
    "                out.write(line.strip())\n",
    "            else:\n",
    "                out.write(line.strip(\"\\n\"), end=\"\") # Strip \"\\n\" from all sequence lines\n",
    "        out.write(\"\\n\")\n",
    "\n",
    "def count_lines(infile):\n",
    "    '''Opens the input file and returns the number of lines in the file.'''\n",
    "    with open(infile) as file:\n",
    "        for i, line in enumerate(file):\n",
    "            pass\n",
    "    return i + 1\n",
    "\n",
    "def motif2regex(file):\n",
    "    '''Takes the list of motifs and returns a dictionary of regular expressions that will search for that motif in\n",
    "    a given sequence, regardless of case. Keys are motifs; values are regex motifs.'''\n",
    "    motif_dict = {}\n",
    "    with open(file) as motif_list:\n",
    "        for motif in motif_list:\n",
    "            motif = motif.strip(\"\\n\")\n",
    "            motif_upper = motif.upper()\n",
    "            motif_components = list(motif_upper)\n",
    "            for i in range(0, len(motif_components)):\n",
    "                motif_components[i] = iupac.get(motif_components[i])\n",
    "                regex_motif = \"\".join(motif_components)\n",
    "                motif_dict[motif] = regex_motif\n",
    "    return motif_dict\n",
    "\n",
    "def lengths_intex(sequence):\n",
    "    '''From a given UCSC sequence, i.e. lower case intron, upper case exon, lower case intron,\n",
    "    this function returns a list of length four: length of the sequence, length of the first intron,\n",
    "    length of the exon, and length of the second intron.'''\n",
    "    sequence = sequence.strip()\n",
    "    pattern = re.compile(r'([a-z]+)([A-Z]+)([a-z]+)')\n",
    "    res = re.match(pattern, sequence)\n",
    "    lengths = [sequence, len(sequence), len(res.group(1)), len(res.group(2)), len(res.group(3))]\n",
    "    return lengths\n",
    "\n",
    "def sequence_parser(file):\n",
    "    with open(file, \"r+\") as file:\n",
    "        seq_details = {}\n",
    "        linecount = 0\n",
    "        header = \"\"\n",
    "        sequence = \"\"\n",
    "        first_line = True\n",
    "        for line in file:\n",
    "            linecount += 1\n",
    "            if line.startswith(\">\") == True:\n",
    "                line = line.strip()[1:]\n",
    "                if not first_line:\n",
    "                    seq_details[header] = lengths_intex(sequence)\n",
    "                header = line\n",
    "                sequence = \"\"\n",
    "            else:\n",
    "                sequence = line\n",
    "                first_line = False\n",
    "        seq_details[header] = lengths_intex(sequence)\n",
    "    return seq_details\n",
    "\n",
    "def motif_position(motif_dict, header, sequence):\n",
    "    '''Takes a motif in regular-expression format and searches for all instances of that motif\n",
    "    in the provided sequence. Returns a list of 2-item lists containing start positions and lengths.\n",
    "    Since Python idexes starting at 0, 1 is added to the start position to account for pixels when making the image.'''\n",
    "    positions = {}\n",
    "    for motif in motif_dict.keys():   \n",
    "        for match in re.finditer(regex_motif, sequence):\n",
    "            s = match.start()\n",
    "            e = match.end()\n",
    "            positions[header + \"_\" + motif].append([s + 1, e - s])    \n",
    "    return positions\n",
    "        \n",
    "def get_all_positions(fasta_f, motif_f):\n",
    "    fasta_twofer(fasta_f)\n",
    "    seq_details = sequence_parser(\"./sequences_twofer.fasta\")\n",
    "    motif_dict = motif2regex(motif_f)\n",
    "    all_positions = []\n",
    "    for info in seq_details.items():\n",
    "        # info[0] is the header\n",
    "        # info[1] is the list of details\n",
    "        # info[1][0] is the sequence\n",
    "        # info[1][1] is the sequence length\n",
    "        # info[1][2] is the length of intron 1\n",
    "        # info[1][3] is the length of the exon\n",
    "        # info[1][4] is the length of intron 2\n",
    "        positions = motif_position(motif_dict, header = info[0], sequence = info[1][0])\n",
    "        all_positions.append(positions)\n",
    "    return all_positions\n",
    "\n",
    "#####################################################################################\n",
    "##### Check File Sizes ##############################################################\n",
    "#####################################################################################\n",
    "\n",
    "#if count_lines(args.file) > 20:\n",
    "#    raise ValueError(\"ERROR: Exiting program. Too many sequences were supplied (maximum 10)\")\n",
    "#if count_lines(args.motifs) > 10:\n",
    "#    raise ValueError(\"ERROR: Exiting program. Too many motifs were supplied (maximum 10)\")\n",
    "\n",
    "#####################################################################################\n",
    "##### Make IUPAC Dictionary #########################################################\n",
    "#####################################################################################\n",
    "\n",
    "### IUPAC ambiguity codes and associated regular expressions for ignoring case\n",
    "iupac = {\"A\":\"[Aa]\", \"T\":\"[TtUu]\", \"C\":\"[Cc]\", \"G\":\"[Gg]\", \"U\":\"[TtUu]\",\n",
    "         \"M\":\"[AaCc]\", \"R\":\"[AaGg]\", \"W\":\"[AaTtUu]\",\n",
    "         \"S\":\"[CcGg]\", \"Y\":\"[CcTtUu]\", \"K\":\"[GgTtUu]\",\n",
    "         \"V\":\"[AaCcGg]\", \"H\":\"[AaCcTtUu]\", \"D\":\"[AaGgTtUu]\", \"B\":\"[CcGgTtUu]\",\n",
    "         \"N\":\"[AaTtCcGgUu]\"}\n",
    "\n",
    "####################################################################################\n",
    "##### Find Motifs in Sequences ######################################################\n",
    "#####################################################################################\n",
    "\n",
    "get_all_positions(fasta_f = \"./sequence.fasta\", motif_f = \"./motifs.txt\")\n",
    "\n",
    "#####################################################################################\n",
    "##### Generate Visualizations $######################################################\n",
    "#####################################################################################\n",
    "\n"
   ]
  },
  {
   "cell_type": "code",
   "execution_count": 62,
   "metadata": {},
   "outputs": [
    {
     "name": "stdout",
     "output_type": "stream",
     "text": [
      "{'ygcy': '[CcTtUu][Gg][Cc][CcTtUu]', 'UGCAUG': '[TtUu][Gg][Cc][Aa][TtUu][Gg]', 'GCAUG': '[Gg][Cc][Aa][TtUu][Gg]'}\n"
     ]
    },
    {
     "data": {
      "text/plain": [
       "{'ADD3 chr10:111891895-111892326': ['aatgtataattatggatatatgggataactgttagcatgctcagctcactgctgaagaatttatcatctctttgtatacaggcatttgatgtatgcactaacctccctaaaatcatatgctgctttgttttgttttgcatggcttttaactaaactcttatccaacagATGCTGAGCAGGAATTACTCTCAGATGACGCTTCATCTGTTTCACAAATTCAGTCTCAAACTCAGTCACCGCAAAATGTCCCTGAAAAATTAGAAGgtactcaatgtaatttcccacatagcattcactgagttagtcttgagtctgtccctctgtgttttgttttcacgtgaggaagttgaatacctcatcacagtaagttttccatattttacttatatctcccaataattacatattttatatcattaaaaatggggcgct',\n",
       "  432,\n",
       "  168,\n",
       "  96,\n",
       "  168],\n",
       " 'INSR chr19:7149896-7151209 (reverse complement)': ['aaaattctgccagacttggagaagtggctgagtcagttgtgatgtccacatgtagtcacgtttgacatcccagggccacctcagcaggccgtctctggggagaattttctctgatttcttccccttcccttgctggacccctgcacctgctggggaagatgtagctcactccgtctagcaagtgatgggagcgagtggtccagggtcaaagccagggtgcccttactcggacacatgtggcctccaagtgtcagagcccagtggtctgtctaatgaagttccctctgtcctcaaaggcgttggttttgtttccacagAAAAACCTCTTCAGGCACTGGTGCCGAGGACCCTAGgtatgactcacctgtgcgacccctggtgcctgctccgcgcagggccggcggcgtgccaggcagatgcctcggagaacccaggggtttctgtggctttttgcatgcggcgggcagctgtgctggagagcagatgcttcaccaattcagaaatccaatgccttcactctgaaatgaaatctgggcatgaatgtggggagaaaccttcactaacacactcttgctaaaacatagaatcatgggagtgcttcctgggtaccccctccctgccttctgtttgcagccactgtttgctcactaaacatctctgcacctcccgcgtgcatttgcagaggtgggtgggggtccccggagtctgagctccccgcggctgggtgccccgacccagcagctcctacaccatgaatggaggttgatctggaaacagaatattttcatgaaagggcgacagggtatgaacaaaagaacaccgtgtcgctcactgaattccacggaggagagtcaggga',\n",
       "  858,\n",
       "  317,\n",
       "  36,\n",
       "  505],\n",
       " 'MBNL chr3:152432504-152433226 (reverse complement)': ['taactctttgaggtaagcgccgttttaaagatgaggaaattgaggtacagtgatgtaaccaggcaatgtgactttagcgtccaacctcttatccactattctaaacatggatgttgtagcctttataaacgttacattaatcaaatacagcattatctatactctagtaaaatgttccaaaccctaagccaaaatctgttttaaaatttttacaactttttggccatggaaacacacaaacaaacaaaaaaccacactttgagaattagaatgtagtatataaagacaccaactagtcattcctacCTCAAGTCTGTCTGTTCGCATTAATTTCTGTGCAGCAGCTGCAGCAGCTGCAGGTACAGGGACACCCGGATTCCCTGTAACCAACATTGGTGCAGTCGGCAAGATCTCTGCCGGGACCAGGCTTGGAGAAACAGGTCCCAGATAGGGATTAAAGGCGGCTGCTGATGCATTGGTGGCTAAGCTTGGTGCAACTGAAAACATTGGctgaaaaataaaataaaagcaaaatttaacatgcaggtctcagctcaaagttgatattcttaattatacatttgtcctccatccatctatccattcttccttaggccttccctccttccctttaatcctgtgttcatttactatcatttagggtaaggctgttttattaaataaacattcatcaaatcaatgtttttctaaaatataataagt',\n",
       "  723,\n",
       "  306,\n",
       "  204,\n",
       "  213]}"
      ]
     },
     "execution_count": 62,
     "metadata": {},
     "output_type": "execute_result"
    }
   ],
   "source": [
    "motif_dict = motif2regex(\"./motifs.txt\")\n",
    "print(motif_dict)\n",
    "\n",
    "seq_details = sequence_parser(\"./sequences_twofer.fasta\")\n",
    "seq_details"
   ]
  },
  {
   "cell_type": "code",
   "execution_count": 69,
   "metadata": {},
   "outputs": [
    {
     "data": {
      "text/plain": [
       "[{'INSR chr19:7149896-7151209 (reverse complement)_GCAUG': [[453, 5],\n",
       "   [535, 5]],\n",
       "  'INSR chr19:7149896-7151209 (reverse complement)_UGCAUG': [[452, 6]],\n",
       "  'INSR chr19:7149896-7151209 (reverse complement)_ygcy': [[8, 4],\n",
       "   [131, 4],\n",
       "   [148, 4],\n",
       "   [218, 4],\n",
       "   [339, 4],\n",
       "   [380, 4],\n",
       "   [384, 4],\n",
       "   [407, 4],\n",
       "   [418, 4],\n",
       "   [471, 4],\n",
       "   [485, 4],\n",
       "   [509, 4],\n",
       "   [572, 4],\n",
       "   [596, 4],\n",
       "   [618, 4],\n",
       "   [642, 4],\n",
       "   [726, 4],\n",
       "   [826, 4]]},\n",
       " {'MBNL chr3:152432504-152433226 (reverse complement)_ygcy': [[18, 4],\n",
       "   [415, 4],\n",
       "   [466, 4]]},\n",
       " {'ADD3 chr10:111891895-111892326_GCAUG': [[35, 5], [137, 5]],\n",
       "  'ADD3 chr10:111891895-111892326_UGCAUG': [[136, 6]],\n",
       "  'ADD3 chr10:111891895-111892326_ygcy': [[38, 4],\n",
       "   [50, 4],\n",
       "   [118, 4],\n",
       "   [170, 4],\n",
       "   [197, 4],\n",
       "   [429, 4]]}]"
      ]
     },
     "execution_count": 69,
     "metadata": {},
     "output_type": "execute_result"
    }
   ],
   "source": []
  },
  {
   "cell_type": "markdown",
   "metadata": {},
   "source": [
    " "
   ]
  },
  {
   "cell_type": "markdown",
   "metadata": {},
   "source": [
    "## In-Line Testing"
   ]
  },
  {
   "cell_type": "code",
   "execution_count": 2,
   "metadata": {
    "collapsed": true
   },
   "outputs": [],
   "source": [
    "### IUPAC ambiguity codes and associated regular expressions for ignoring case\n",
    "iupac = {\"A\":\"[Aa]\", \"T\":\"[TtUu]\", \"C\":\"[Cc]\", \"G\":\"[Gg]\", \"U\":\"[TtUu]\",\n",
    "         \"M\":\"[AaCc]\", \"R\":\"[AaGg]\", \"W\":\"[AaTtUu]\",\n",
    "         \"S\":\"[CcGg]\", \"Y\":\"[CcTtUu]\", \"K\":\"[GgTtUu]\",\n",
    "         \"V\":\"[AaCcGg]\", \"H\":\"[AaCcTtUu]\", \"D\":\"[AaGgTtUu]\", \"B\":\"[CcGgTtUu]\",\n",
    "         \"N\":\"[AaTtCcGgUu]\"}"
   ]
  },
  {
   "cell_type": "code",
   "execution_count": 41,
   "metadata": {
    "collapsed": true
   },
   "outputs": [],
   "source": [
    "width, height = 800, 500\n",
    "surface = cairo.SVGSurface(\"example.svg\", width, height)\n",
    "context = cairo.Context(surface)\n",
    "context.set_line_width(1)\n",
    "context.move_to(50,25)        #(x,y)\n",
    "context.line_to(450,25)\n",
    "context.stroke()\n",
    "\n",
    "surface.finish()"
   ]
  },
  {
   "cell_type": "markdown",
   "metadata": {},
   "source": [
    " "
   ]
  },
  {
   "cell_type": "markdown",
   "metadata": {},
   "source": [
    "## `Pycairo` Example from Leslie"
   ]
  },
  {
   "cell_type": "code",
   "execution_count": 12,
   "metadata": {
    "collapsed": true
   },
   "outputs": [],
   "source": [
    "width, height = 800, 500\n",
    "\n",
    "#create the coordinates to display your graphic, desginate output\n",
    "surface = cairo.SVGSurface(\"example.svg\",width, height)\n",
    "#create the coordinates you will be drawing on (like a transparency) - you can create a transformation matrix\n",
    "context = cairo.Context(surface)\n",
    "#context.scale(width,height) #will set your drawing surface to a 0.0-1.0 scale\n",
    "\n",
    "#Need to tell cairo where to put the brush, the color and width, and the shape you want it to draw\n",
    "#draw a line\n",
    "context.set_line_width(1)\n",
    "context.move_to(50,25)        #(x,y)\n",
    "context.line_to(450,25)\n",
    "context.stroke()\n",
    "\n",
    "#draw a rectangle\n",
    "context.rectangle(100,100,150,350)        #(x0,y0,x1,y1)\n",
    "context.fill()\n",
    "\n",
    "context.move_to(25,250)\n",
    "context.set_source_rgb(.25,.5,.5)\n",
    "context.set_line_width(5)\n",
    "context.curve_to(100,400,400,100,750,250)\n",
    "context.stroke()\n",
    "\n",
    "context.set_source_rgb(0,.6,.8)\n",
    "context.arc(500, 300, 50, 0, 2*math.pi)\n",
    "context.fill_preserve()            #draws filled circle, but preserves for later drawing\n",
    "context.set_source_rgb(.3,.3,.3)\n",
    "context.stroke()\n",
    "\n",
    "#write out drawing\n",
    "surface.finish()"
   ]
  },
  {
   "cell_type": "code",
   "execution_count": 11,
   "metadata": {
    "collapsed": true
   },
   "outputs": [],
   "source": [
    "WIDTH, HEIGHT = 256, 256\n",
    "\n",
    "surface = cairo.ImageSurface (cairo.FORMAT_ARGB32, WIDTH, HEIGHT)\n",
    "ctx = cairo.Context (surface)\n",
    "\n",
    "ctx.scale (WIDTH, HEIGHT) # Normalizing the canvas\n",
    "\n",
    "pat = cairo.LinearGradient (0.0, 0.0, 0.0, 1.0)\n",
    "pat.add_color_stop_rgba (1, 0.7, 0, 0, 0.5) # First stop, 50% opacity\n",
    "pat.add_color_stop_rgba (0, 0.9, 0.7, 0.2, 1) # Last stop, 100% opacity\n",
    "\n",
    "ctx.rectangle (0, 0, 1, 1) # Rectangle(x0, y0, x1, y1)\n",
    "ctx.set_source (pat)\n",
    "ctx.fill ()\n",
    "\n",
    "ctx.translate (0.1, 0.1) # Changing the current transformation matrix\n",
    "\n",
    "ctx.move_to (0, 0)\n",
    "# Arc(cx, cy, radius, start_angle, stop_angle)\n",
    "ctx.arc (0.2, 0.1, 0.1, -math.pi/2, 0)\n",
    "ctx.line_to (0.5, 0.1) # Line to (x,y)\n",
    "# Curve(x1, y1, x2, y2, x3, y3)\n",
    "ctx.curve_to (0.5, 0.2, 0.5, 0.4, 0.2, 0.8)\n",
    "ctx.close_path ()\n",
    "\n",
    "ctx.set_source_rgb (0.3, 0.2, 0.5) # Solid color\n",
    "ctx.set_line_width (0.02)\n",
    "ctx.stroke ()\n",
    "\n",
    "surface.write_to_png (\"example2.png\") # Output to PNG"
   ]
  },
  {
   "cell_type": "code",
   "execution_count": null,
   "metadata": {
    "collapsed": true
   },
   "outputs": [],
   "source": []
  }
 ],
 "metadata": {
  "kernelspec": {
   "display_name": "Python 3",
   "language": "python",
   "name": "python3"
  },
  "language_info": {
   "codemirror_mode": {
    "name": "ipython",
    "version": 3
   },
   "file_extension": ".py",
   "mimetype": "text/x-python",
   "name": "python",
   "nbconvert_exporter": "python",
   "pygments_lexer": "ipython3",
   "version": "3.6.1"
  }
 },
 "nbformat": 4,
 "nbformat_minor": 2
}
